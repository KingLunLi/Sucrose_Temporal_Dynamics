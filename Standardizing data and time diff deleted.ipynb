{
 "cells": [
  {
   "cell_type": "markdown",
   "metadata": {},
   "source": [
    "# Load data"
   ]
  },
  {
   "cell_type": "code",
   "execution_count": 1,
   "metadata": {},
   "outputs": [],
   "source": [
    "import pandas as pd\n",
    "import numpy as np\n",
    "import scipy as sy\n",
    "import os\n",
    "from scipy import stats\n",
    "from more_itertools import numeric_range\n",
    "import math\n",
    "import seaborn as sb"
   ]
  },
  {
   "cell_type": "code",
   "execution_count": 19,
   "metadata": {},
   "outputs": [],
   "source": [
    "bf_time=[4.3,6.5,6.4,5.5,5.1,2.3,4.6,5.3,14.1,6.0,5.4,4.4,5.0,14.0,5.7,5.4,7.9,6.5]\n",
    "t=0"
   ]
  },
  {
   "cell_type": "code",
   "execution_count": 18,
   "metadata": {
    "scrolled": true
   },
   "outputs": [
    {
     "data": {
      "text/plain": [
       "['122_WD1_concat.csv',\n",
       " '122_WD20_concat.csv',\n",
       " '124_WD1_concat.csv',\n",
       " '124_WD20_concat.csv',\n",
       " '126_WD1_concat.csv',\n",
       " '126_WD20_concat.csv',\n",
       " '131_WD1_concat.csv',\n",
       " '131_WD20_concat.csv',\n",
       " '133_WD1_concat.csv',\n",
       " '133_WD20_concat.csv',\n",
       " '166_WD21_concat.csv',\n",
       " '166_WD2_concat.csv',\n",
       " '171_WD21_concat.csv',\n",
       " '171_WD2_concat.csv',\n",
       " '172_WD21_concat.csv',\n",
       " '172_WD2_concat.csv',\n",
       " 'CB2_WD1_concat.csv',\n",
       " 'CB2_WD20_concat.csv',\n",
       " 'CB5_WD1_concat.csv',\n",
       " 'CB5_WD20_concat.csv']"
      ]
     },
     "execution_count": 18,
     "metadata": {},
     "output_type": "execute_result"
    }
   ],
   "source": [
    "os.listdir('D:/Xiguang/Cocaine - Ctl GBP data/Raw data/processed/GBP/')"
   ]
  },
  {
   "cell_type": "code",
   "execution_count": 16,
   "metadata": {},
   "outputs": [],
   "source": [
    "files=os.listdir('D:/Xiguang/Cocaine - Ctl GBP data/Raw data/processed/GBP/')[1]"
   ]
  },
  {
   "cell_type": "code",
   "execution_count": 17,
   "metadata": {},
   "outputs": [
    {
     "data": {
      "text/plain": [
       "'122_WD20_'"
      ]
     },
     "execution_count": 17,
     "metadata": {},
     "output_type": "execute_result"
    }
   ],
   "source": [
    "name = files[:-10]\n",
    "name"
   ]
  },
  {
   "cell_type": "code",
   "execution_count": 21,
   "metadata": {},
   "outputs": [
    {
     "name": "stdout",
     "output_type": "stream",
     "text": [
      "122_WD1_concat.csv\n",
      "4.4\n",
      "122_WD20_concat.csv\n",
      "3.8\n",
      "124_WD1_concat.csv\n",
      "3.9\n",
      "124_WD20_concat.csv\n",
      "5.7\n",
      "126_WD1_concat.csv\n",
      "12.7\n",
      "126_WD20_concat.csv\n",
      "3.2\n",
      "131_WD1_concat.csv\n",
      "4\n",
      "131_WD20_concat.csv\n",
      "4\n",
      "133_WD1_concat.csv\n",
      "4.5\n",
      "133_WD20_concat.csv\n",
      "5.1\n",
      "166_WD21_concat.csv\n",
      "3.552\n",
      "166_WD2_concat.csv\n",
      "4.56\n",
      "171_WD21_concat.csv\n",
      "4.353\n",
      "171_WD2_concat.csv\n",
      "4.959\n",
      "172_WD21_concat.csv\n",
      "5.024\n",
      "172_WD2_concat.csv\n",
      "4.96\n",
      "CB2_WD1_concat.csv\n",
      "5.8\n",
      "CB2_WD20_concat.csv\n",
      "3.7\n",
      "CB5_WD1_concat.csv\n",
      "4.7\n",
      "CB5_WD20_concat.csv\n",
      "5\n"
     ]
    }
   ],
   "source": [
    "### Delta f over f\n",
    "t=0\n",
    "for files in os.listdir('D:/Xiguang/Cocaine - Ctl GBP data/Raw data/processed/GBP/'):\n",
    "    print(files)\n",
    "    print(bf_time[t])\n",
    "\n",
    "    raw_data = pd.read_csv('D:/Xiguang/Cocaine - Ctl GBP data/Raw data/processed/GBP/'+files)\n",
    "    name = files[:-10]\n",
    "    before_time = bf_time[t]\n",
    "    t=t+1\n",
    "    data = raw_data.copy()\n",
    "    data = data - min(data.iloc[:,range(1,len(data.columns))].min())\n",
    "    data['ceil_time'] = (data['Time(ms)']/100).apply(np.ceil).astype(int)*100\n",
    "    data = data.groupby(['ceil_time']).mean()\n",
    "    data = data.reset_index()\n",
    "    data['Time(ms)'] = data['ceil_time']\n",
    "    data = data.drop('ceil_time', axis=1)\n",
    "    data = data.rename(columns={'Time(ms)':'Time(s)'})\n",
    "    data['Time(s)'] = round(data['Time(s)']/1000,1)\n",
    "    delete_indx = data[data['Time(s)'] <= before_time].index\n",
    "    #print(delete_indx)\n",
    "    data.drop(delete_indx, inplace=True)\n",
    "    data.reset_index(drop=True, inplace=True)\n",
    "    data['Time(s)'] = data['Time(s)'] - before_time\n",
    "    #data.head()\n",
    "    cols = data.columns\n",
    "    z_data = pd.DataFrame(columns=cols)\n",
    "    z_data['Time(s)'] = data['Time(s)']\n",
    "    for xc in range(1,len(cols)):\n",
    "        for ran in range(0,math.ceil(len(data)/3000)):\n",
    "            if (ran+1)*3000<len(data):\n",
    "                baseline = data.iloc[range(ran*3000,(ran+1)*3000),xc].mean()\n",
    "                z_data.iloc[range(ran*3000,(ran+1)*3000),xc] = (data.iloc[range(ran*3000,(ran+1)*3000),xc] - baseline)/baseline\n",
    "            else:\n",
    "                baseline = data.iloc[range(len(data)-3000,len(data)),xc].mean()\n",
    "                z_data.iloc[range(ran*3000,len(data)),xc] = (data.iloc[range(ran*3000,len(data)),xc] - baseline)/baseline\n",
    "\n",
    "    z_data[\"Time(s)\"]=round(z_data[\"Time(s)\"],1)\n",
    "    z_data.to_csv('D:/Xiguang/Cocaine - Ctl GBP data/Raw data/processed/GBP/'+name +'_deltaF_over_F.csv', index=False)"
   ]
  },
  {
   "cell_type": "code",
   "execution_count": 12,
   "metadata": {},
   "outputs": [
    {
     "name": "stdout",
     "output_type": "stream",
     "text": [
      "D1#60_WD2.csv\n",
      "5.4\n",
      "D1#60_WD21.csv\n",
      "4.9\n",
      "D1#62_WD2.csv\n",
      "2.4\n",
      "D1#62_WD21.csv\n",
      "3.4\n"
     ]
    }
   ],
   "source": [
    "\n",
    "### z-score\n",
    "for files in os.listdir('D:/Xiguang/new D2 data/OneDrive_1_1-11-2024/'):\n",
    "    print(files)\n",
    "    print(bf_time[t])\n",
    "\n",
    "    raw_data = pd.read_csv('D:/Xiguang/new D2 data/OneDrive_1_1-11-2024/'+files)\n",
    "    name = files[:-4]\n",
    "    before_time = bf_time[t]\n",
    "    t=t+1\n",
    "    data = raw_data.copy()\n",
    "    data['ceil_time'] = (data['Time(ms)']/100).apply(np.ceil).astype(int)*100\n",
    "    data = data.groupby(['ceil_time']).mean()\n",
    "    data = data.reset_index()\n",
    "    data['Time(ms)'] = data['ceil_time']\n",
    "    data = data.drop('ceil_time', axis=1)\n",
    "    data = data.rename(columns={'Time(ms)':'Time(s)'})\n",
    "    data['Time(s)'] = round(data['Time(s)']/1000,1)\n",
    "    delete_indx = data[data['Time(s)'] <= before_time].index\n",
    "    #print(delete_indx)\n",
    "    data.drop(delete_indx, inplace=True)\n",
    "    data.reset_index(drop=True, inplace=True)\n",
    "    data['Time(s)'] = data['Time(s)'] - before_time\n",
    "    #data.head()\n",
    "    cols = raw_data.columns\n",
    "    cols = cols[1:]\n",
    "    z_data = pd.DataFrame()\n",
    "    for col in cols:\n",
    "        col_zscore = col + '_zscore'\n",
    "        z_data['Time(s)'] = data['Time(s)']\n",
    "        z_data[col] = (data[col] - data[col].mean())/data[col].std(ddof=0)\n",
    "\n",
    "    z_data[\"Time(s)\"]=round(z_data[\"Time(s)\"],1)\n",
    "    #z_data.tail()\n",
    "    z_data.to_csv('D:/Xiguang/new D2 data/'+name +'_standardized.csv', index=False)"
   ]
  },
  {
   "cell_type": "code",
   "execution_count": null,
   "metadata": {},
   "outputs": [],
   "source": []
  },
  {
   "cell_type": "code",
   "execution_count": null,
   "metadata": {},
   "outputs": [],
   "source": []
  }
 ],
 "metadata": {
  "kernelspec": {
   "display_name": "Python 3 (ipykernel)",
   "language": "python",
   "name": "python3"
  },
  "language_info": {
   "codemirror_mode": {
    "name": "ipython",
    "version": 3
   },
   "file_extension": ".py",
   "mimetype": "text/x-python",
   "name": "python",
   "nbconvert_exporter": "python",
   "pygments_lexer": "ipython3",
   "version": "3.11.1"
  }
 },
 "nbformat": 4,
 "nbformat_minor": 4
}
