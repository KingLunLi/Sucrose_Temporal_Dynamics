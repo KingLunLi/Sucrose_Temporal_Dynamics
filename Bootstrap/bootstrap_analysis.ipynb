{
 "cells": [
  {
   "cell_type": "code",
   "execution_count": null,
   "metadata": {},
   "outputs": [],
   "source": [
    "import pandas as pd\n",
    "import numpy as np\n",
    "import matplotlib.pyplot as plt\n",
    "from scipy.stats import bootstrap\n",
    "from scipy.stats import ttest_ind"
   ]
  },
  {
   "cell_type": "code",
   "execution_count": null,
   "metadata": {},
   "outputs": [],
   "source": [
    "mTypes = {'D1':['D1#14', 'D1#15', 'D1#21', 'D1#7', 'D1#33'],\n",
    "          'D2':['D2#13', 'D2#24', 'D2#36', 'D2#23', 'D2#38', 'D2#52']}"
   ]
  },
  {
   "cell_type": "code",
   "execution_count": null,
   "metadata": {},
   "outputs": [],
   "source": [
    "col_names = [\"dis\", \"time\", \"group\", \"Day\", \"list\", \"mice\", \"itr\"]\n",
    "dtypes={\n",
    "        \"dis\" : float, \n",
    "        \"time\" : int, \n",
    "        \"group\" : str, \n",
    "        \"Day\" : str, \n",
    "        \"list\" : str, \n",
    "        \"mice\" : str, \n",
    "        \"itr\" : int\n",
    "        }\n",
    "read_df = pd.read_csv(\"pca_distance_example.csv\", dtype=dtypes)\n",
    "df_grouped = read_df.groupby(['time', 'group', 'list', 'mice', 'itr']).dis.sum().to_frame()\n",
    "df_grouped"
   ]
  },
  {
   "cell_type": "code",
   "execution_count": null,
   "metadata": {},
   "outputs": [],
   "source": [
    "colNames = ['dis']\n",
    "times = np.arange(1,302)\n",
    "iter = np.arange(99)"
   ]
  },
  {
   "cell_type": "code",
   "execution_count": null,
   "metadata": {},
   "outputs": [],
   "source": [
    "my_index = pd.MultiIndex(levels=[[],[],[],[]], codes=[[],[],[],[]], names=[u'itr', u'group', u'time', u'type'])\n",
    "df_grouped_mType_average = pd.DataFrame([], columns=['dis'], index=my_index, dtype=float)\n",
    "for mType in mTypes:\n",
    "    for t in times:\n",
    "        for it in range(0,100):\n",
    "            df_grouped_mType_average.loc[it, 'ALP', t, mType] = df_grouped.loc[t, 'ALP', mType, :, it]['dis'].mean()\n",
    "            df_grouped_mType_average.loc[it, 'BL2', t, mType] = df_grouped.loc[t, 'BL2', mType, :, it]['dis'].mean()\n",
    "df_grouped_mType_average"
   ]
  },
  {
   "cell_type": "code",
   "execution_count": null,
   "metadata": {},
   "outputs": [],
   "source": [
    "def my_statistic(sample1, sample2, axis):\n",
    "    statistic, _ = ttest_ind(sample1, sample2, axis=-1)\n",
    "    return statistic"
   ]
  },
  {
   "cell_type": "code",
   "execution_count": null,
   "metadata": {},
   "outputs": [],
   "source": [
    "FRAC_PART = 5\n",
    "colTimes = []\n",
    "addr = -10.25\n",
    "while addr <= 10: \n",
    "    colTimes.append(addr)\n",
    "    addr += 1*FRAC_PART/10\n",
    "    addr = np.round(addr, 2)\n",
    "colNames = [\"[{t1},{t2})\".format(t1 = colTimes[i], t2 = colTimes[i+1]) for i in range(len(colTimes) - 1)]\n",
    "print(colNames)\n",
    "print(len(colNames))"
   ]
  },
  {
   "cell_type": "code",
   "execution_count": null,
   "metadata": {},
   "outputs": [],
   "source": [
    "for rat in ['D1', 'D2']:\n",
    "    counter = 0\n",
    "    colVals = []\n",
    "    lower, higher = [], []\n",
    "    for time in range(48, 247, 5):\n",
    "        slice = np.arange(time, time+5)\n",
    "        colVals.append(colNames[counter])\n",
    "        print(colNames[counter], slice)\n",
    "        counter += 1\n",
    "        ALP_dat = df_grouped.loc[slice, 'ALP', rat, :, :]['dis']\n",
    "        BL2_dat = df_grouped.loc[slice, 'BL2', rat, :, :]['dis']\n",
    "        bootstrap_val = bootstrap((ALP_dat, BL2_dat), my_statistic, method='basic', confidence_level=0.95)\n",
    "        lower.append(bootstrap_val.confidence_interval[0])\n",
    "        higher.append(bootstrap_val.confidence_interval[1])\n",
    "    plt.fill_between(colVals, lower, higher, color='r', alpha=.15)\n",
    "    plt.xticks(rotation=90)\n",
    "    plt.axvline('[-5.25,-4.75)', alpha=0.5)\n",
    "    plt.axvline('[-2.75,-2.25)', alpha=0.5)\n",
    "    plt.ylabel('Z-score')\n",
    "    plt.title(rat)\n",
    "    plt.show()\n",
    "    plt.clf()\n"
   ]
  },
  {
   "cell_type": "code",
   "execution_count": null,
   "metadata": {},
   "outputs": [],
   "source": [
    "time_slices = [[98, 99, 100, 101, 102], [123, 124, 125, 126, 127], [148, 149, 150, 151, 152]] # -5, -2.5, 0\n",
    "for rat in ['D1', 'D2']:\n",
    "    for slice in time_slices:\n",
    "        ALP_dat = df_grouped_mType_average.loc[:, 'ALP', slice, rat]['dis']\n",
    "        BL2_dat = df_grouped_mType_average.loc[:, 'BL2', slice, rat]['dis']\n",
    "        bootstrap_val = bootstrap((ALP_dat, BL2_dat), my_statistic, method='basic', confidence_level=0.95)\n",
    "        print(bootstrap_val)"
   ]
  },
  {
   "cell_type": "code",
   "execution_count": null,
   "metadata": {},
   "outputs": [],
   "source": [
    "idx = ['Type', 'Day', 'Rodent', 'iter']\n",
    "mind_df = pd.read_csv('mind_svm_output_ALP_example.csv', index_col=idx)\n",
    "mind_df_shuff = pd.read_csv('mind_svm_output_control_example.csv', index_col=idx)\n",
    "mind_df"
   ]
  },
  {
   "cell_type": "code",
   "execution_count": null,
   "metadata": {},
   "outputs": [],
   "source": [
    "index = pd.MultiIndex(levels=[[],[]], codes=[[],[]], names=[u'Type', u'iter'], dtype=(str, int))\n",
    "mind_df_grouped = pd.DataFrame([], columns=colNames, index=index, dtype=float)\n",
    "mind_df_grouped_shuff = pd.DataFrame([], columns=colNames, index=index, dtype=float)\n",
    "mind_df_grouped"
   ]
  },
  {
   "cell_type": "code",
   "execution_count": null,
   "metadata": {},
   "outputs": [],
   "source": [
    "iter = np.arange(100)\n",
    "for mType in mTypes:\n",
    "    for it in iter:\n",
    "        mind_df_grouped.loc[(mType, it),:] = mind_df.loc[mType, 'Day11', :, it].mean()\n",
    "        mind_df_grouped_shuff.loc[(mType, it),:] = mind_df_shuff.loc[mType, 'Day11', :, it].mean()\n",
    "mind_df_grouped"
   ]
  },
  {
   "cell_type": "code",
   "execution_count": null,
   "metadata": {},
   "outputs": [],
   "source": [
    "for rat in ['D1', 'D2']:\n",
    "    lower, higher = [], []\n",
    "    for tSlice in colNames:\n",
    "        ALP_dat = mind_df_grouped.loc[rat, :][tSlice]\n",
    "        BL2_dat = mind_df_grouped_shuff.loc[rat, :][tSlice]\n",
    "        bootstrap_val = bootstrap((ALP_dat, BL2_dat), my_statistic, method='basic', confidence_level=0.95)\n",
    "        if tSlice in ['[-5.0,-4.5)', '[-2.5,-2.0)']:\n",
    "            print(rat, tSlice, bootstrap_val)\n",
    "        lower.append(bootstrap_val.confidence_interval[0])\n",
    "        higher.append(bootstrap_val.confidence_interval[1])\n",
    "    plt.fill_between(colNames, lower, higher, color='r', alpha=.15)\n",
    "    plt.xticks(rotation=90)\n",
    "    plt.axvline('[-5.0,-4.5)', alpha=0.5)\n",
    "    plt.axvline('[-2.5,-2.0)', alpha=0.5)\n",
    "    plt.ylabel('Z-score')\n",
    "    plt.title(rat)\n",
    "    plt.show()\n",
    "    plt.clf()"
   ]
  },
  {
   "cell_type": "code",
   "execution_count": null,
   "metadata": {},
   "outputs": [],
   "source": []
  }
 ],
 "metadata": {
  "kernelspec": {
   "display_name": "allenviz",
   "language": "python",
   "name": "python3"
  },
  "language_info": {
   "codemirror_mode": {
    "name": "ipython",
    "version": 3
   },
   "file_extension": ".py",
   "mimetype": "text/x-python",
   "name": "python",
   "nbconvert_exporter": "python",
   "pygments_lexer": "ipython3",
   "version": "3.9.15"
  }
 },
 "nbformat": 4,
 "nbformat_minor": 2
}
